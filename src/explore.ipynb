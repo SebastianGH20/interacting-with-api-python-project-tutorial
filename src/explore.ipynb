{
    "cells": [
        {
            "cell_type": "markdown",
            "metadata": {},
            "source": [
                "# Explore here"
            ]
        },
        {
            "cell_type": "code",
            "execution_count": 58,
            "metadata": {},
            "outputs": [
                {
                    "data": {
                        "text/plain": [
                            "True"
                        ]
                    },
                    "execution_count": 58,
                    "metadata": {},
                    "output_type": "execute_result"
                }
            ],
            "source": [
                "import os\n",
                "import pandas as pd\n",
                "import seaborn as sns\n",
                "from dotenv import load_dotenv\n",
                "import matplotlib.pyplot as plt\n",
                "\n",
                "# load the .env file variables\n",
                "load_dotenv()\n",
                "\n"
            ]
        },
        {
            "cell_type": "markdown",
            "metadata": {},
            "source": [
                "## Paso 3: Variables de entorno"
            ]
        },
        {
            "cell_type": "code",
            "execution_count": 7,
            "metadata": {},
            "outputs": [],
            "source": [
                "\n",
                "load_dotenv()\n",
                "\n",
                "client_id = os.environ.get('CLIENT_ID')\n",
                "client_secret = os.environ.get('CLIENT_SECRET')"
            ]
        },
        {
            "cell_type": "markdown",
            "metadata": {},
            "source": [
                "## Paso 4: Inicializar la biblioteca Spotipy"
            ]
        },
        {
            "cell_type": "code",
            "execution_count": 29,
            "metadata": {},
            "outputs": [
                {
                    "name": "stdout",
                    "output_type": "stream",
                    "text": [
                        "<spotipy.client.Spotify object at 0x0000029C8D6FF6E0>\n"
                    ]
                }
            ],
            "source": [
                "import spotipy\n",
                "from spotipy.oauth2 import SpotifyClientCredentials\n",
                "\n",
                "sp = spotipy.Spotify(client_credentials_manager=SpotifyClientCredentials(client_id = client_id, client_secret = client_secret))\n",
                "print(sp)\n"
            ]
        },
        {
            "cell_type": "markdown",
            "metadata": {},
            "source": [
                "## Paso 5: Realizar solicitudes a la API"
            ]
        },
        {
            "cell_type": "code",
            "execution_count": 55,
            "metadata": {},
            "outputs": [
                {
                    "name": "stdout",
                    "output_type": "stream",
                    "text": [
                        "track_name    : QLONA\n",
                        "track_uri    : spotify:track:5RqSsdzTNPX1uzkmlHCFvK\n",
                        "cover_art_url: https://i.scdn.co/image/ab67616d0000b273d026bf9d7780f6a1267b4d03\n",
                        "popularity: 83\n",
                        "duration_ms   : 172797\n",
                        "\n",
                        "track_name    : AMARGURA\n",
                        "track_uri    : spotify:track:505v13epFXodT9fVAJ6h8k\n",
                        "cover_art_url: https://i.scdn.co/image/ab67616d0000b27382de1ca074ae63cb18fce335\n",
                        "popularity: 83\n",
                        "duration_ms   : 170480\n",
                        "\n",
                        "track_name    : MI EX TENÍA RAZÓN\n",
                        "track_uri    : spotify:track:54zcJnb3tp9c5OVKREZ1Is\n",
                        "cover_art_url: https://i.scdn.co/image/ab67616d0000b273d026bf9d7780f6a1267b4d03\n",
                        "popularity: 80\n",
                        "duration_ms   : 154374\n",
                        "\n",
                        "track_name    : TQG\n",
                        "track_uri    : spotify:track:0DWdj2oZMBFSzRsi2Cvfzf\n",
                        "cover_art_url: https://i.scdn.co/image/ab67616d0000b27382de1ca074ae63cb18fce335\n",
                        "popularity: 79\n",
                        "duration_ms   : 197933\n",
                        "\n",
                        "track_name    : PROVENZA\n",
                        "track_uri    : spotify:track:3HqcNJdZ2seoGxhn0wVNDK\n",
                        "cover_art_url: https://i.scdn.co/image/ab67616d0000b27382de1ca074ae63cb18fce335\n",
                        "popularity: 78\n",
                        "duration_ms   : 207626\n",
                        "\n",
                        "track_name    : CONTIGO (with Tiësto)\n",
                        "track_uri    : spotify:track:4UkUxO2WlKLc0Q1iEutGGh\n",
                        "cover_art_url: https://i.scdn.co/image/ab67616d0000b273c5426d9daa879064ccf12fb1\n",
                        "popularity: 80\n",
                        "duration_ms   : 192786\n",
                        "\n",
                        "track_name    : MAMIII\n",
                        "track_uri    : spotify:track:7FlQk2gJ6TBrHHiidvdR2O\n",
                        "cover_art_url: https://i.scdn.co/image/ab67616d0000b273518859dcb13382116f450073\n",
                        "popularity: 76\n",
                        "duration_ms   : 226093\n",
                        "\n",
                        "track_name    : MIENTRAS ME CURO DEL CORA\n",
                        "track_uri    : spotify:track:6otePxalBK8AVa20xhZYVQ\n",
                        "cover_art_url: https://i.scdn.co/image/ab67616d0000b27382de1ca074ae63cb18fce335\n",
                        "popularity: 78\n",
                        "duration_ms   : 164386\n",
                        "\n",
                        "track_name    : X SI VOLVEMOS\n",
                        "track_uri    : spotify:track:4NoOME4Dhf4xgxbHDT7VGe\n",
                        "cover_art_url: https://i.scdn.co/image/ab67616d0000b27382de1ca074ae63cb18fce335\n",
                        "popularity: 76\n",
                        "duration_ms   : 200120\n",
                        "\n",
                        "track_name    : OKI DOKI\n",
                        "track_uri    : spotify:track:4gJfPoMIcSDGY0tMGxm6Fu\n",
                        "cover_art_url: https://i.scdn.co/image/ab67616d0000b273d026bf9d7780f6a1267b4d03\n",
                        "popularity: 74\n",
                        "duration_ms   : 143789\n",
                        "\n"
                    ]
                }
            ],
            "source": [
                "artist_id = \"790FomKkXshlbRYZFtlgla\"\n",
                "results = sp.artist_top_tracks(artist_id)\n",
                "\n",
                "\n",
                "for track in results['tracks'][:10]:\n",
                "    print('track_name    : ' + track['name'])\n",
                "    print('track_uri    : ' + track['uri'])\n",
                "    print('cover_art_url: ' + track['album']['images'][0]['url'])\n",
                "    print('popularity: ' + str(track['popularity']))\n",
                "    print('duration_ms   : ' + str(track['duration_ms']))\n",
                "    print()\n",
                " \n"
            ]
        },
        {
            "cell_type": "markdown",
            "metadata": {},
            "source": [
                "## Paso 6: Transformar a Pandas DataFrame"
            ]
        },
        {
            "cell_type": "code",
            "execution_count": 57,
            "metadata": {},
            "outputs": [
                {
                    "name": "stdout",
                    "output_type": "stream",
                    "text": [
                        "      track_name                             track_uri  \\\n",
                        "9       OKI DOKI  spotify:track:4gJfPoMIcSDGY0tMGxm6Fu   \n",
                        "6         MAMIII  spotify:track:7FlQk2gJ6TBrHHiidvdR2O   \n",
                        "8  X SI VOLVEMOS  spotify:track:4NoOME4Dhf4xgxbHDT7VGe   \n",
                        "\n",
                        "                                       cover_art_url  popularity  duration_ms  \n",
                        "9  https://i.scdn.co/image/ab67616d0000b273d026bf...          74       143789  \n",
                        "6  https://i.scdn.co/image/ab67616d0000b273518859...          76       226093  \n",
                        "8  https://i.scdn.co/image/ab67616d0000b27382de1c...          76       200120  \n"
                    ]
                }
            ],
            "source": [
                "tracks_data = []\n",
                "\n",
                "for track in results['tracks'][:10]:\n",
                "    track_info = {\n",
                "        'track_name': track['name'],\n",
                "        'track_uri': track['uri'],\n",
                "        'cover_art_url': track['album']['images'][0]['url'],\n",
                "        'popularity': track['popularity'],\n",
                "        'duration_ms': track['duration_ms']\n",
                "    }\n",
                "    tracks_data.append(track_info)\n",
                "# Crear el DataFrame\n",
                "tracks_df = pd.DataFrame(tracks_data)\n",
                "# Ordenar el DataFrame por la columna \"popularity\"\n",
                "tracks_df.sort_values([\"popularity\"], inplace=True)\n",
                "# Imprimir las primeras 3 filas del DataFrame ordenado\n",
                "print(tracks_df.head(3))"
            ]
        },
        {
            "cell_type": "markdown",
            "metadata": {},
            "source": [
                "## Paso 7: Analizar relación estadística"
            ]
        },
        {
            "cell_type": "code",
            "execution_count": 59,
            "metadata": {},
            "outputs": [
                {
                    "data": {
                        "image/png": "[encoded data removed]",
                        "text/plain": [
                            "<Figure size 1000x600 with 1 Axes>"
                        ]
                    },
                    "metadata": {},
                    "output_type": "display_data"
                }
            ],
            "source": [
                "tracks_df['duration_min'] = tracks_df['duration_ms'] / 60000\n",
                "\n",
                "plt.figure(figsize=(10, 6))\n",
                "sns.scatterplot(x='duration_min', y='popularity', data=tracks_df)\n",
                "plt.title('Duración de la Canción vs Popularidad')\n",
                "plt.xlabel('Duración (minutos)')\n",
                "plt.ylabel('Popularidad')\n",
                "plt.grid(True)\n",
                "plt.show()\n"
            ]
        }
    ],
    "metadata": {
        "kernelspec": {
            "display_name": "Python 3.8.13 64-bit ('3.8.13')",
            "language": "python",
            "name": "python3"
        },
        "language_info": {
            "codemirror_mode": {
                "name": "ipython",
                "version": 3
            },
            "file_extension": ".py",
            "mimetype": "text/x-python",
            "name": "python",
            "nbconvert_exporter": "python",
            "pygments_lexer": "ipython3",
            "version": "3.12.0"
        },
        "orig_nbformat": 4,
        "vscode": {
            "interpreter": {
                "hash": "110cc1dee26208153f2972f08a2ad52b6a56238dc66d48e87fb757ef2996db56"
            }
        }
    },
    "nbformat": 4,
    "nbformat_minor": 2
}
